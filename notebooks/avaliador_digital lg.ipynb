{
 "cells": [
  {
   "cell_type": "markdown",
   "metadata": {},
   "source": [
    "# Código para comparação de PM e PNRs (Langchain)"
   ]
  },
  {
   "cell_type": "markdown",
   "metadata": {},
   "source": [
    "## Bibliotecas"
   ]
  },
  {
   "cell_type": "code",
   "execution_count": 1,
   "metadata": {},
   "outputs": [
    {
     "name": "stderr",
     "output_type": "stream",
     "text": [
      "C:\\Users\\rvpri\\AppData\\Local\\Temp\\ipykernel_44156\\3875478173.py:9: TqdmWarning: IProgress not found. Please update jupyter and ipywidgets. See https://ipywidgets.readthedocs.io/en/stable/user_install.html\n",
      "  from tqdm.autonotebook import tqdm, trange\n"
     ]
    }
   ],
   "source": [
    "from langchain_core.documents import Document\n",
    "from langchain_chroma import Chroma\n",
    "from langchain_openai import AzureChatOpenAI\n",
    "from langchain_core.messages import HumanMessage, SystemMessage\n",
    "from langchain_huggingface import HuggingFaceEmbeddings\n",
    "from langchain_core.runnables import chain\n",
    "\n",
    "from typing import List\n",
    "from tqdm.autonotebook import tqdm, trange\n",
    "import getpass\n",
    "import random\n",
    "import os\n",
    "import pandas as pd\n",
    "import numpy as np\n",
    "from uuid import uuid4"
   ]
  },
  {
   "cell_type": "markdown",
   "metadata": {},
   "source": [
    "## Configurando modelos"
   ]
  },
  {
   "cell_type": "code",
   "execution_count": 2,
   "metadata": {},
   "outputs": [],
   "source": [
    "model = AzureChatOpenAI(\n",
    "    api_key=os.environ[\"API_KEY\"],\n",
    "    azure_endpoint=os.environ[\"ENDPOINT_URL\"],\n",
    "    azure_deployment=os.environ[\"AZURE_OPENAI_DEPLOYMENT_NAME\"],\n",
    "    openai_api_version=os.environ[\"AZURE_OPENAI_API_VERSION\"],\n",
    "    temperature= 0.5,\n",
    "    top_p= 0.7,\n",
    "    max_tokens= 1500\n",
    ")\n",
    "\n",
    "\n",
    "# Instanciando o modelo de embeddings da HuggingFace via SentenceTransformer\n",
    "model_name = 'intfloat/multilingual-e5-large'\n",
    "embedding_model = HuggingFaceEmbeddings(model_name=model_name)"
   ]
  },
  {
   "cell_type": "markdown",
   "metadata": {},
   "source": [
    "## Funções adicionais"
   ]
  },
  {
   "cell_type": "code",
   "execution_count": 3,
   "metadata": {},
   "outputs": [
    {
     "name": "stdout",
     "output_type": "stream",
     "text": [
      "API_KEY carregada com sucesso\n",
      "ENDPOINT_URL carregada com sucesso\n",
      "IMAGE_PATH carregada com sucesso\n"
     ]
    }
   ],
   "source": [
    "def verificar_variaveis(*nomes_variaveis):\n",
    "    \"\"\"\n",
    "    Verifica se as variáveis de ambiente estão carregadas.\n",
    "\n",
    "    Args:\n",
    "    *nomes_variaveis: Lista de nomes das variáveis de ambiente a serem verificadas.\n",
    "    \"\"\"\n",
    "    for nome_variavel in nomes_variaveis:\n",
    "        valor_variavel = os.getenv(nome_variavel)\n",
    "        if valor_variavel:\n",
    "            print(f\"{nome_variavel} carregada com sucesso\")\n",
    "        else:\n",
    "            print(f\"{nome_variavel} não encontrada no arquivo .env.\")\n",
    "            \n",
    "\n",
    "# Acessando a variável de ambiente\n",
    "api_key = os.getenv(\"API_KEY\")\n",
    "endpoint = os.getenv(\"ENDPOINT_URL\")\n",
    "#image = os.getenv(\"IMAGE_PATH\")\n",
    "# Lista de variáveis de ambiente a verificar\n",
    "variaveis_para_verificar = [\"API_KEY\", \"ENDPOINT_URL\", \"IMAGE_PATH\"]\n",
    "\n",
    "# Chama a função de verificação para as variáveis\n",
    "verificar_variaveis(*variaveis_para_verificar)"
   ]
  },
  {
   "cell_type": "code",
   "execution_count": 5,
   "metadata": {},
   "outputs": [],
   "source": [
    "# Criar uma lista de documentos\n",
    "def create_documents(texts):\n",
    "    documents = [Document(page_content=text) for text in texts]\n",
    "    uuids = [str(uuid4()) for _ in range(len(documents))]\n",
    "\n",
    "    return documents,uuids\n"
   ]
  },
  {
   "cell_type": "code",
   "execution_count": 7,
   "metadata": {},
   "outputs": [],
   "source": [
    "@chain\n",
    "def retriever(query: str,k: int) -> List[Document]:\n",
    "    docs = chroma_db.similarity_search(query,k)\n",
    "\n",
    "    return docs"
   ]
  },
  {
   "cell_type": "code",
   "execution_count": 8,
   "metadata": {},
   "outputs": [],
   "source": [
    "def gerar_prompt(item_plano_manutencao,item_inspec, messages):\n",
    "    \n",
    "    test_instr = [(\"user\",f\"\"\"Maintenance task: {item_plano_manutencao}\n",
    "                     Inspection report: {item_inspec}\n",
    "        \"\"\")]\n",
    "    prompt = messages+test_instr\n",
    "\n",
    "    \n",
    "    \n",
    "    return prompt"
   ]
  },
  {
   "cell_type": "code",
   "execution_count": 9,
   "metadata": {},
   "outputs": [],
   "source": [
    "def get_dict_key(item_procurado,dict):\n",
    "    # Iterando sobre o dicionário para encontrar a key que contém o item\n",
    "    for chave, lista in dict.items():\n",
    "        if item_procurado in lista:\n",
    "            #print(f\"O item '{item_procurado}' está na chave: '{chave}'\")\n",
    "            return chave,lista.index(item_procurado)\n",
    "    else:\n",
    "        return  print(f\"O item '{item_procurado}' não foi encontrado em nenhuma lista.\")"
   ]
  },
  {
   "cell_type": "markdown",
   "metadata": {},
   "source": [
    "## Importando dados"
   ]
  },
  {
   "cell_type": "code",
   "execution_count": 10,
   "metadata": {},
   "outputs": [
    {
     "data": {
      "text/html": [
       "<div>\n",
       "<style scoped>\n",
       "    .dataframe tbody tr th:only-of-type {\n",
       "        vertical-align: middle;\n",
       "    }\n",
       "\n",
       "    .dataframe tbody tr th {\n",
       "        vertical-align: top;\n",
       "    }\n",
       "\n",
       "    .dataframe thead th {\n",
       "        text-align: right;\n",
       "    }\n",
       "</style>\n",
       "<table border=\"1\" class=\"dataframe\">\n",
       "  <thead>\n",
       "    <tr style=\"text-align: right;\">\n",
       "      <th></th>\n",
       "      <th>task_normativo</th>\n",
       "      <th>inspec_correta</th>\n",
       "      <th>inspec_correta_gramatica</th>\n",
       "      <th>inspec_parcial</th>\n",
       "      <th>inspec_parcial_gramatica</th>\n",
       "      <th>inspec_errada</th>\n",
       "    </tr>\n",
       "  </thead>\n",
       "  <tbody>\n",
       "    <tr>\n",
       "      <th>0</th>\n",
       "      <td>Interior Placards, Exterior Placards, Decals, ...</td>\n",
       "      <td>Conducted a thorough examination of the Interi...</td>\n",
       "      <td>Conducted a thru examination of the Intierior ...</td>\n",
       "      <td>Inspection of Interior and Exterior Placards c...</td>\n",
       "      <td>Inspecshun of Intirior an Exterir Placards com...</td>\n",
       "      <td>Reviewed the placards for any signs of damage....</td>\n",
       "    </tr>\n",
       "    <tr>\n",
       "      <th>1</th>\n",
       "      <td>Ventilation System - Inspect clamps, hoses, an...</td>\n",
       "      <td>Conducted a comprehensive inspection of the Ve...</td>\n",
       "      <td>Conducted a comprhensive inspecshun of the Ven...</td>\n",
       "      <td>Inspected a few clamps and hoses of the Ventil...</td>\n",
       "      <td>Inspted a few clampz and hosses of the Ventila...</td>\n",
       "      <td>Reviewed the overall functionality of the vent...</td>\n",
       "    </tr>\n",
       "  </tbody>\n",
       "</table>\n",
       "</div>"
      ],
      "text/plain": [
       "                                      task_normativo  \\\n",
       "0  Interior Placards, Exterior Placards, Decals, ...   \n",
       "1  Ventilation System - Inspect clamps, hoses, an...   \n",
       "\n",
       "                                      inspec_correta  \\\n",
       "0  Conducted a thorough examination of the Interi...   \n",
       "1  Conducted a comprehensive inspection of the Ve...   \n",
       "\n",
       "                            inspec_correta_gramatica  \\\n",
       "0  Conducted a thru examination of the Intierior ...   \n",
       "1  Conducted a comprhensive inspecshun of the Ven...   \n",
       "\n",
       "                                      inspec_parcial  \\\n",
       "0  Inspection of Interior and Exterior Placards c...   \n",
       "1  Inspected a few clamps and hoses of the Ventil...   \n",
       "\n",
       "                            inspec_parcial_gramatica  \\\n",
       "0  Inspecshun of Intirior an Exterir Placards com...   \n",
       "1  Inspted a few clampz and hosses of the Ventila...   \n",
       "\n",
       "                                       inspec_errada  \n",
       "0  Reviewed the placards for any signs of damage....  \n",
       "1  Reviewed the overall functionality of the vent...  "
      ]
     },
     "metadata": {},
     "output_type": "display_data"
    },
    {
     "data": {
      "text/html": [
       "<div>\n",
       "<style scoped>\n",
       "    .dataframe tbody tr th:only-of-type {\n",
       "        vertical-align: middle;\n",
       "    }\n",
       "\n",
       "    .dataframe tbody tr th {\n",
       "        vertical-align: top;\n",
       "    }\n",
       "\n",
       "    .dataframe thead th {\n",
       "        text-align: right;\n",
       "    }\n",
       "</style>\n",
       "<table border=\"1\" class=\"dataframe\">\n",
       "  <thead>\n",
       "    <tr style=\"text-align: right;\">\n",
       "      <th></th>\n",
       "      <th>Equipment</th>\n",
       "      <th>inspec_sintetico</th>\n",
       "      <th>categoria</th>\n",
       "    </tr>\n",
       "  </thead>\n",
       "  <tbody>\n",
       "    <tr>\n",
       "      <th>0</th>\n",
       "      <td>1. Battery System</td>\n",
       "      <td>Conducted a comprehensive inspection of the Ba...</td>\n",
       "      <td>geral</td>\n",
       "    </tr>\n",
       "    <tr>\n",
       "      <th>1</th>\n",
       "      <td>2. Propeller Assembly</td>\n",
       "      <td>Performed a detailed examination of the Propel...</td>\n",
       "      <td>geral</td>\n",
       "    </tr>\n",
       "  </tbody>\n",
       "</table>\n",
       "</div>"
      ],
      "text/plain": [
       "               Equipment                                   inspec_sintetico  \\\n",
       "0      1. Battery System  Conducted a comprehensive inspection of the Ba...   \n",
       "1  2. Propeller Assembly  Performed a detailed examination of the Propel...   \n",
       "\n",
       "  categoria  \n",
       "0     geral  \n",
       "1     geral  "
      ]
     },
     "metadata": {},
     "output_type": "display_data"
    }
   ],
   "source": [
    "df_real = pd.read_excel('Listas_geradas.xlsx',sheet_name='Sheet1')\n",
    "df_sintetico = pd.read_excel('Listas_geradas.xlsx',sheet_name='Sheet2')\n",
    "\n",
    "display(df_real.head(2))\n",
    "display(df_sintetico.head(2))"
   ]
  },
  {
   "cell_type": "code",
   "execution_count": 11,
   "metadata": {},
   "outputs": [
    {
     "data": {
      "text/plain": [
       "Index(['task_normativo', 'inspec_correta', 'inspec_correta_gramatica',\n",
       "       'inspec_parcial', 'inspec_parcial_gramatica', 'inspec_errada'],\n",
       "      dtype='object')"
      ]
     },
     "execution_count": 11,
     "metadata": {},
     "output_type": "execute_result"
    }
   ],
   "source": [
    "df_real.columns"
   ]
  },
  {
   "cell_type": "markdown",
   "metadata": {},
   "source": [
    "## Plano normativo"
   ]
  },
  {
   "cell_type": "code",
   "execution_count": 12,
   "metadata": {},
   "outputs": [],
   "source": [
    "lista_plano_manutencao = df_real.task_maintenance.to_list()"
   ]
  },
  {
   "cell_type": "markdown",
   "metadata": {},
   "source": [
    "## Listas de inspeção"
   ]
  },
  {
   "cell_type": "markdown",
   "metadata": {},
   "source": [
    "### Validação Simples com Mistura Sintética"
   ]
  },
  {
   "cell_type": "markdown",
   "metadata": {},
   "source": [
    "#### Lista sintetica"
   ]
  },
  {
   "cell_type": "code",
   "execution_count": 13,
   "metadata": {},
   "outputs": [
    {
     "data": {
      "text/plain": [
       "50"
      ]
     },
     "execution_count": 13,
     "metadata": {},
     "output_type": "execute_result"
    }
   ],
   "source": [
    "lista_sinteico = df_sintetico.inspec_sintetico.to_list()\n",
    "len(lista_sinteico)"
   ]
  },
  {
   "cell_type": "markdown",
   "metadata": {},
   "source": [
    "#### Inspeção correta"
   ]
  },
  {
   "cell_type": "code",
   "execution_count": 14,
   "metadata": {},
   "outputs": [
    {
     "data": {
      "text/plain": [
       "152"
      ]
     },
     "execution_count": 14,
     "metadata": {},
     "output_type": "execute_result"
    }
   ],
   "source": [
    "lista_inspec_correta = df_real.inspec_correta.to_list()\n",
    "len(lista_inspec_correta)"
   ]
  },
  {
   "cell_type": "code",
   "execution_count": 15,
   "metadata": {},
   "outputs": [
    {
     "data": {
      "text/plain": [
       "152"
      ]
     },
     "execution_count": 15,
     "metadata": {},
     "output_type": "execute_result"
    }
   ],
   "source": [
    "lista_inspec_correta_gramatica = df_real.inspec_correta_gramatica.to_list()\n",
    "len(lista_inspec_correta_gramatica)"
   ]
  },
  {
   "cell_type": "markdown",
   "metadata": {},
   "source": [
    "#### Inspeção Parcial"
   ]
  },
  {
   "cell_type": "code",
   "execution_count": 16,
   "metadata": {},
   "outputs": [
    {
     "data": {
      "text/plain": [
       "152"
      ]
     },
     "execution_count": 16,
     "metadata": {},
     "output_type": "execute_result"
    }
   ],
   "source": [
    "lista_inspec_parcial = df_real.inspec_parcial.to_list()\n",
    "len(lista_inspec_parcial)"
   ]
  },
  {
   "cell_type": "code",
   "execution_count": 17,
   "metadata": {},
   "outputs": [
    {
     "data": {
      "text/plain": [
       "152"
      ]
     },
     "execution_count": 17,
     "metadata": {},
     "output_type": "execute_result"
    }
   ],
   "source": [
    "lista_inspec_parcial_gramatica = df_real.inspec_parcial_gramatica.to_list()\n",
    "len(lista_inspec_parcial_gramatica)"
   ]
  },
  {
   "cell_type": "markdown",
   "metadata": {},
   "source": [
    "#### Inspeção errada"
   ]
  },
  {
   "cell_type": "code",
   "execution_count": 18,
   "metadata": {},
   "outputs": [
    {
     "data": {
      "text/plain": [
       "152"
      ]
     },
     "execution_count": 18,
     "metadata": {},
     "output_type": "execute_result"
    }
   ],
   "source": [
    "lista_inspec_errado = df_real.inspec_errada.to_list()\n",
    "len(lista_inspec_errado)"
   ]
  },
  {
   "cell_type": "markdown",
   "metadata": {},
   "source": [
    "#### Dicionario"
   ]
  },
  {
   "cell_type": "code",
   "execution_count": 19,
   "metadata": {},
   "outputs": [],
   "source": [
    "dic_inspec = {\n",
    "    'inspec_correta':lista_inspec_correta,\n",
    "    'inspec_correta_gramatica':lista_inspec_correta_gramatica,\n",
    "    'inspec_parcial':lista_inspec_parcial,\n",
    "    'inspec_parcial_gramatica':lista_inspec_parcial_gramatica,\n",
    "    'inspec_errado':lista_inspec_errado,\n",
    "     'inspec_sintetico':lista_sinteico  \n",
    "}"
   ]
  },
  {
   "cell_type": "code",
   "execution_count": 20,
   "metadata": {},
   "outputs": [],
   "source": [
    "teste1 = lista_inspec_correta+lista_sinteico\n",
    "teste2 = lista_inspec_correta_gramatica+lista_sinteico\n",
    "teste3 = lista_inspec_parcial + lista_sinteico\n",
    "teste4 = lista_inspec_parcial_gramatica + lista_sinteico\n",
    "teste5 = lista_inspec_errado + lista_sinteico\n",
    "teste6 = lista_inspec_correta[:50] + lista_inspec_correta_gramatica[50:100] + lista_inspec_parcial + lista_inspec_errado + lista_sinteico"
   ]
  },
  {
   "cell_type": "markdown",
   "metadata": {},
   "source": [
    "## ChromaDB"
   ]
  },
  {
   "cell_type": "code",
   "execution_count": 21,
   "metadata": {},
   "outputs": [],
   "source": [
    "documents,uuids  = create_documents(teste6)"
   ]
  },
  {
   "cell_type": "code",
   "execution_count": 22,
   "metadata": {},
   "outputs": [],
   "source": [
    "# Gerando a indexação vetorial com Chroma\n",
    "try:\n",
    "    chroma_db.reset_collection()\n",
    "    chroma_db = Chroma.from_documents(documents=documents,ids=uuids, embedding=embedding_model)\n",
    "except:\n",
    "    chroma_db = Chroma.from_documents(documents=documents,ids=uuids, embedding=embedding_model)"
   ]
  },
  {
   "cell_type": "markdown",
   "metadata": {},
   "source": [
    "## Few-shots"
   ]
  },
  {
   "cell_type": "code",
   "execution_count": 23,
   "metadata": {},
   "outputs": [],
   "source": [
    "# Criando lista para usar no fewshot\n",
    "lista_entrada = []\n",
    "lista_saida = []\n",
    "\n",
    "lista_entrada.append(\"\"\"Normative task: Interior Placards, Exterior Placards, Decals, Markings and Identification Plates - Examine for correct installation and legibility. Refer to Chapter 11 Placards and Markings - Inspection/Check.\n",
    "\n",
    "Inspection report: Conducted a thorough examination of the Interior Placards, Exterior Placards, Decals, Markings, and Identification Plates. Verified correct installation and ensured that all markings are legible, in accordance with Chapter 11 Placards and Markings - Inspection/Check guidelines.\n",
    "\"\"\")\n",
    "\n",
    "lista_saida.append(\"\"\"Compared Entities: Normative task vs Inspection report\n",
    "Adherence: Yes\n",
    "Reason: Both documents refer to the same items (Interior and Exterior Placards, Decals, Markings, and Identification Plates) and confirm the procedures of examining for correct installation and legibility. The references to Chapter 11 in both documents match perfectly, indicating full adherence.\n",
    "\"\"\")"
   ]
  },
  {
   "cell_type": "code",
   "execution_count": 24,
   "metadata": {},
   "outputs": [],
   "source": [
    "lista_entrada.append(\"\"\"Normative task: Interior Placards, Exterior Placards, Decals, Markings and Identification Plates - Examine for correct installation and legibility. Refer to Chapter 11 Placards and Markings - Inspection/Check.\n",
    "\n",
    "Inspection report: Performed an extensive assessment of the Seats, Safety Belts, and Interior Panels. All seats were secure and functional. Safety belts were checked for wear and compliance with safety standards.\n",
    "\"\"\")\n",
    "\n",
    "lista_saida.append(\"\"\"Compared Entities: Normative task vs Inspection report\n",
    "Adherence: No\n",
    "Reason: The maintenance plan specifically refers to placards, decals, and markings, while the inspection report focuses on seats and safety belts. The items inspected do not match the items outlined in the maintenance plan, indicating a lack of adherence.\n",
    "\"\"\")"
   ]
  },
  {
   "cell_type": "code",
   "execution_count": 25,
   "metadata": {},
   "outputs": [],
   "source": [
    "# Criando o few-shot\n",
    "# Itere pelas linhas do DataFrame e crie iterações personalizadas\n",
    "few_shots=[]\n",
    "for i in range(len(lista_entrada)):\n",
    "    entrada = lista_entrada[i]\n",
    "    saida = lista_saida[i]\n",
    "\n",
    "    few_shots.append((\"user\",entrada))\n",
    "    few_shots.append((\"assistant\",saida))"
   ]
  },
  {
   "cell_type": "markdown",
   "metadata": {},
   "source": [
    "## Instrução"
   ]
  },
  {
   "cell_type": "code",
   "execution_count": 26,
   "metadata": {},
   "outputs": [],
   "source": [
    "instrucoes =[(\"system\",\"\"\"You work for an aircraft maintenance company. \n",
    "Your task is to check the aircraft maintenance plan against the inspector's report. \n",
    "To carry out this task you will be given two documents, one being the maintenance plan and the other the inspector's report, and you will have to compare them and evaluate if they are adherent or not. Be very rigorous and only consider adherence if they are highly similar and mention all the same components.\n",
    "\n",
    "To help you with your assessment, use the step-by-step guide:\n",
    "1) Check that the item in the maintenance plan and the report are related to each other.\n",
    "2) Check that the procedures described in the Maintenance Plan Assessment match those described in the inspector's report.\n",
    "3) You may find some spelling or grammar mistakes, but this shouldn't stop you from checking that the maintenance plan and the report are related to each other.\n",
    "\n",
    "Your result should contain the Compared Entities, the Adherence (Yes or No) and, in a few words, the reason for your answer to adherence.\n",
    "\"\"\")]"
   ]
  },
  {
   "cell_type": "code",
   "execution_count": 27,
   "metadata": {},
   "outputs": [
    {
     "data": {
      "text/plain": [
       "[('system',\n",
       "  \"You work for an aircraft maintenance company. \\nYour task is to check the aircraft maintenance plan against the inspector's report. \\nTo carry out this task you will be given two documents, one being the maintenance plan and the other the inspector's report, and you will have to compare them and evaluate if they are adherent or not. Be very rigorous and only consider adherence if they are highly similar and mention all the same components.\\n\\nTo help you with your assessment, use the step-by-step guide:\\n1) Check that the item in the maintenance plan and the report are related to each other.\\n2) Check that the procedures described in the Maintenance Plan Assessment match those described in the inspector's report.\\n3) You may find some spelling or grammar mistakes, but this shouldn't stop you from checking that the maintenance plan and the report are related to each other.\\n\\nYour result should contain the Compared Entities, the Adherence (Yes or No) and, in a few words, the reason for your answer to adherence.\\n\"),\n",
       " ('user',\n",
       "  'Normative task: Interior Placards, Exterior Placards, Decals, Markings and Identification Plates - Examine for correct installation and legibility. Refer to Chapter 11 Placards and Markings - Inspection/Check.\\n\\nInspection report: Conducted a thorough examination of the Interior Placards, Exterior Placards, Decals, Markings, and Identification Plates. Verified correct installation and ensured that all markings are legible, in accordance with Chapter 11 Placards and Markings - Inspection/Check guidelines.\\n'),\n",
       " ('assistant',\n",
       "  'Compared Entities: Normative task vs Inspection report\\nAdherence: Yes\\nReason: Both documents refer to the same items (Interior and Exterior Placards, Decals, Markings, and Identification Plates) and confirm the procedures of examining for correct installation and legibility. The references to Chapter 11 in both documents match perfectly, indicating full adherence.\\n'),\n",
       " ('user',\n",
       "  'Normative task: Interior Placards, Exterior Placards, Decals, Markings and Identification Plates - Examine for correct installation and legibility. Refer to Chapter 11 Placards and Markings - Inspection/Check.\\n\\nInspection report: Performed an extensive assessment of the Seats, Safety Belts, and Interior Panels. All seats were secure and functional. Safety belts were checked for wear and compliance with safety standards.\\n'),\n",
       " ('assistant',\n",
       "  'Compared Entities: Normative task vs Inspection report\\nAdherence: No\\nReason: The maintenance plan specifically refers to placards, decals, and markings, while the inspection report focuses on seats and safety belts. The items inspected do not match the items outlined in the maintenance plan, indicating a lack of adherence.\\n')]"
      ]
     },
     "execution_count": 27,
     "metadata": {},
     "output_type": "execute_result"
    }
   ],
   "source": [
    "messages= instrucoes + few_shots\n",
    "messages"
   ]
  },
  {
   "cell_type": "markdown",
   "metadata": {},
   "source": [
    "## LLM"
   ]
  },
  {
   "cell_type": "code",
   "execution_count": 28,
   "metadata": {},
   "outputs": [
    {
     "name": "stderr",
     "output_type": "stream",
     "text": [
      "100%|██████████| 152/152 [07:14<00:00,  2.86s/it]\n"
     ]
    }
   ],
   "source": [
    "\n",
    "df_resultado=pd.DataFrame(columns=[\"Normative task\",\"Report_1\",\"Resultado_1\",\"Report_2\",\"Resultado_2\",\"Report_3\",\"Resultado_3\"])\n",
    "k = 3\n",
    "\n",
    "for i in tqdm(range(len(lista_plano_manutencao)), bar_format='{l_bar}{bar:10}{r_bar}{bar:-10b}'):\n",
    "    item_plano_manutencao = lista_plano_manutencao[i]\n",
    "    new_row = [item_plano_manutencao]\n",
    "\n",
    "    result = retriever.invoke(item_plano_manutencao,k=k)\n",
    "    \n",
    "    for j in range(k):\n",
    "        item_inspec = result[j].page_content\n",
    "        chave_dict, pos_lista = get_dict_key(item_inspec,dic_inspec)\n",
    "        new_row.append(f\"Item da lista: {chave_dict} posição: {pos_lista}\\n{item_inspec}\") \n",
    "        prompt = gerar_prompt(item_plano_manutencao, item_inspec,messages)\n",
    "        resposta = model.invoke(prompt)\n",
    "        \n",
    "        new_row.append(resposta.content)\n",
    "    df_resultado.loc[i] = new_row"
   ]
  },
  {
   "cell_type": "code",
   "execution_count": 29,
   "metadata": {},
   "outputs": [],
   "source": [
    "df_resultado[\"Item_Aderente\"] = np.full(df_resultado.shape[0], \"\") # Se alguma PM for aderente, informar quais foram\n",
    "df_resultado[\"Gabarito\"] = np.full(df_resultado.shape[0], \"\") # Coluna vazia somente pra confirmar com gabarito\n",
    "for i in range(3):\n",
    "    df_resultado.loc[df_resultado[f'Resultado_{i+1}'].str.contains('Adherence: Yes'), \"Item_Aderente\"] = df_resultado[\"Item_Aderente\"].loc[df_resultado[f'Resultado_{i+1}'].str.contains('Adherence: Yes')]+f'{i+1},'\n",
    "    df_resultado.loc[df_resultado[f'Resultado_{i+1}'].str.contains('Adherence: Yes'), \"Aderência\"] = 'Sim'\n",
    "    \n",
    "df_resultado['Aderência'] = df_resultado['Aderência'].fillna('Não')"
   ]
  },
  {
   "cell_type": "code",
   "execution_count": 30,
   "metadata": {},
   "outputs": [
    {
     "data": {
      "text/html": [
       "<div>\n",
       "<style scoped>\n",
       "    .dataframe tbody tr th:only-of-type {\n",
       "        vertical-align: middle;\n",
       "    }\n",
       "\n",
       "    .dataframe tbody tr th {\n",
       "        vertical-align: top;\n",
       "    }\n",
       "\n",
       "    .dataframe thead th {\n",
       "        text-align: right;\n",
       "    }\n",
       "</style>\n",
       "<table border=\"1\" class=\"dataframe\">\n",
       "  <thead>\n",
       "    <tr style=\"text-align: right;\">\n",
       "      <th></th>\n",
       "      <th>Normative task</th>\n",
       "      <th>Report_1</th>\n",
       "      <th>Resultado_1</th>\n",
       "      <th>Report_2</th>\n",
       "      <th>Resultado_2</th>\n",
       "      <th>Report_3</th>\n",
       "      <th>Resultado_3</th>\n",
       "      <th>Item_Aderente</th>\n",
       "      <th>Gabarito</th>\n",
       "      <th>Aderência</th>\n",
       "    </tr>\n",
       "  </thead>\n",
       "  <tbody>\n",
       "    <tr>\n",
       "      <th>0</th>\n",
       "      <td>Interior Placards, Exterior Placards, Decals, ...</td>\n",
       "      <td>Item da lista: inspec_correta posição: 0\\nCond...</td>\n",
       "      <td>Compared Entities: Normative task vs Inspectio...</td>\n",
       "      <td>Item da lista: inspec_parcial posição: 0\\nInsp...</td>\n",
       "      <td>Compared Entities: Normative task vs Inspectio...</td>\n",
       "      <td>Item da lista: inspec_errado posição: 0\\nRevie...</td>\n",
       "      <td>Compared Entities: Normative task vs Inspectio...</td>\n",
       "      <td>1,2,</td>\n",
       "      <td></td>\n",
       "      <td>Sim</td>\n",
       "    </tr>\n",
       "    <tr>\n",
       "      <th>1</th>\n",
       "      <td>Ventilation System - Inspect clamps, hoses, an...</td>\n",
       "      <td>Item da lista: inspec_correta posição: 1\\nCond...</td>\n",
       "      <td>Compared Entities: Normative task vs Inspectio...</td>\n",
       "      <td>Item da lista: inspec_parcial posição: 1\\nInsp...</td>\n",
       "      <td>Compared Entities: Normative task vs Inspectio...</td>\n",
       "      <td>Item da lista: inspec_parcial posição: 134\\nIn...</td>\n",
       "      <td>Compared Entities: Normative task vs Inspectio...</td>\n",
       "      <td>1,</td>\n",
       "      <td></td>\n",
       "      <td>Sim</td>\n",
       "    </tr>\n",
       "    <tr>\n",
       "      <th>2</th>\n",
       "      <td>Primary Flight Display (PFD) Fan and Multi-Fun...</td>\n",
       "      <td>Item da lista: inspec_correta posição: 2\\nCond...</td>\n",
       "      <td>Compared Entities: Normative task vs Inspectio...</td>\n",
       "      <td>Item da lista: inspec_parcial posição: 2\\nOper...</td>\n",
       "      <td>Compared Entities: Normative task vs Inspectio...</td>\n",
       "      <td>Item da lista: inspec_sintetico posição: 39\\nE...</td>\n",
       "      <td>Compared Entities: Normative task vs Inspectio...</td>\n",
       "      <td>1,</td>\n",
       "      <td></td>\n",
       "      <td>Sim</td>\n",
       "    </tr>\n",
       "    <tr>\n",
       "      <th>3</th>\n",
       "      <td>Cold and Hot Air Hoses - Check condition, rout...</td>\n",
       "      <td>Item da lista: inspec_correta posição: 3\\nInsp...</td>\n",
       "      <td>Compared Entities: Normative task vs Inspectio...</td>\n",
       "      <td>Item da lista: inspec_parcial posição: 3\\nInsp...</td>\n",
       "      <td>Compared Entities: Normative task vs Inspectio...</td>\n",
       "      <td>Item da lista: inspec_parcial posição: 4\\nInsp...</td>\n",
       "      <td>Compared Entities: Normative task vs Inspectio...</td>\n",
       "      <td>1,</td>\n",
       "      <td></td>\n",
       "      <td>Sim</td>\n",
       "    </tr>\n",
       "    <tr>\n",
       "      <th>4</th>\n",
       "      <td>Heater Components, Inlets, and Outlets - Inspe...</td>\n",
       "      <td>Item da lista: inspec_correta posição: 4\\nCond...</td>\n",
       "      <td>Compared Entities: Normative task vs Inspectio...</td>\n",
       "      <td>Item da lista: inspec_errado posição: 4\\nCheck...</td>\n",
       "      <td>Compared Entities: Normative task vs Inspectio...</td>\n",
       "      <td>Item da lista: inspec_parcial posição: 4\\nInsp...</td>\n",
       "      <td>Compared Entities: Normative task vs Inspectio...</td>\n",
       "      <td>1,</td>\n",
       "      <td></td>\n",
       "      <td>Sim</td>\n",
       "    </tr>\n",
       "    <tr>\n",
       "      <th>...</th>\n",
       "      <td>...</td>\n",
       "      <td>...</td>\n",
       "      <td>...</td>\n",
       "      <td>...</td>\n",
       "      <td>...</td>\n",
       "      <td>...</td>\n",
       "      <td>...</td>\n",
       "      <td>...</td>\n",
       "      <td>...</td>\n",
       "      <td>...</td>\n",
       "    </tr>\n",
       "    <tr>\n",
       "      <th>147</th>\n",
       "      <td>Exhaust System - Inspect for cracks and securi...</td>\n",
       "      <td>Item da lista: inspec_parcial posição: 147\\nIn...</td>\n",
       "      <td>Compared Entities: Normative task vs Inspectio...</td>\n",
       "      <td>Item da lista: inspec_errado posição: 147\\nCon...</td>\n",
       "      <td>Compared Entities: Normative task vs Inspectio...</td>\n",
       "      <td>Item da lista: inspec_errado posição: 3\\nExami...</td>\n",
       "      <td>Compared Entities: Normative task vs Inspectio...</td>\n",
       "      <td></td>\n",
       "      <td></td>\n",
       "      <td>Não</td>\n",
       "    </tr>\n",
       "    <tr>\n",
       "      <th>148</th>\n",
       "      <td>Engine Oil - Drain oil sump and oil cooler. Ch...</td>\n",
       "      <td>Item da lista: inspec_errado posição: 148\\nChe...</td>\n",
       "      <td>Compared Entities: Normative task vs Inspectio...</td>\n",
       "      <td>Item da lista: inspec_sintetico posição: 10\\nC...</td>\n",
       "      <td>Compared Entities: Normative task vs Inspectio...</td>\n",
       "      <td>Item da lista: inspec_errado posição: 3\\nExami...</td>\n",
       "      <td>Compared Entities: Normative task vs Inspectio...</td>\n",
       "      <td></td>\n",
       "      <td></td>\n",
       "      <td>Não</td>\n",
       "    </tr>\n",
       "    <tr>\n",
       "      <th>149</th>\n",
       "      <td>Oil Cooler - Check for obstructions, leaks, an...</td>\n",
       "      <td>Item da lista: inspec_parcial posição: 149\\nIn...</td>\n",
       "      <td>Compared Entities: Normative task vs Inspectio...</td>\n",
       "      <td>Item da lista: inspec_errado posição: 149\\nIns...</td>\n",
       "      <td>Compared Entities: Normative task vs Inspectio...</td>\n",
       "      <td>Item da lista: inspec_parcial posição: 147\\nIn...</td>\n",
       "      <td>Compared Entities: Normative task vs Inspectio...</td>\n",
       "      <td>1,</td>\n",
       "      <td></td>\n",
       "      <td>Sim</td>\n",
       "    </tr>\n",
       "    <tr>\n",
       "      <th>150</th>\n",
       "      <td>Starter and Electrical Connections - Check sec...</td>\n",
       "      <td>Item da lista: inspec_parcial posição: 14\\nMai...</td>\n",
       "      <td>Compared Entities: Normative task vs Inspectio...</td>\n",
       "      <td>Item da lista: inspec_parcial posição: 150\\nIn...</td>\n",
       "      <td>Compared Entities: Normative task vs Inspectio...</td>\n",
       "      <td>Item da lista: inspec_parcial posição: 147\\nIn...</td>\n",
       "      <td>Compared Entities: Normative task vs Inspectio...</td>\n",
       "      <td></td>\n",
       "      <td></td>\n",
       "      <td>Não</td>\n",
       "    </tr>\n",
       "    <tr>\n",
       "      <th>151</th>\n",
       "      <td>Bendix Drive Starter Assembly - Clean and lubr...</td>\n",
       "      <td>Item da lista: inspec_parcial posição: 151\\nCl...</td>\n",
       "      <td>Compared Entities: Normative task vs Inspectio...</td>\n",
       "      <td>Item da lista: inspec_errado posição: 151\\nPer...</td>\n",
       "      <td>Compared Entities: Normative task vs Inspectio...</td>\n",
       "      <td>Item da lista: inspec_errado posição: 145\\nPer...</td>\n",
       "      <td>Compared Entities: Normative task vs Inspectio...</td>\n",
       "      <td>1,</td>\n",
       "      <td></td>\n",
       "      <td>Sim</td>\n",
       "    </tr>\n",
       "  </tbody>\n",
       "</table>\n",
       "<p>152 rows × 10 columns</p>\n",
       "</div>"
      ],
      "text/plain": [
       "                                        Normative task  \\\n",
       "0    Interior Placards, Exterior Placards, Decals, ...   \n",
       "1    Ventilation System - Inspect clamps, hoses, an...   \n",
       "2    Primary Flight Display (PFD) Fan and Multi-Fun...   \n",
       "3    Cold and Hot Air Hoses - Check condition, rout...   \n",
       "4    Heater Components, Inlets, and Outlets - Inspe...   \n",
       "..                                                 ...   \n",
       "147  Exhaust System - Inspect for cracks and securi...   \n",
       "148  Engine Oil - Drain oil sump and oil cooler. Ch...   \n",
       "149  Oil Cooler - Check for obstructions, leaks, an...   \n",
       "150  Starter and Electrical Connections - Check sec...   \n",
       "151  Bendix Drive Starter Assembly - Clean and lubr...   \n",
       "\n",
       "                                              Report_1  \\\n",
       "0    Item da lista: inspec_correta posição: 0\\nCond...   \n",
       "1    Item da lista: inspec_correta posição: 1\\nCond...   \n",
       "2    Item da lista: inspec_correta posição: 2\\nCond...   \n",
       "3    Item da lista: inspec_correta posição: 3\\nInsp...   \n",
       "4    Item da lista: inspec_correta posição: 4\\nCond...   \n",
       "..                                                 ...   \n",
       "147  Item da lista: inspec_parcial posição: 147\\nIn...   \n",
       "148  Item da lista: inspec_errado posição: 148\\nChe...   \n",
       "149  Item da lista: inspec_parcial posição: 149\\nIn...   \n",
       "150  Item da lista: inspec_parcial posição: 14\\nMai...   \n",
       "151  Item da lista: inspec_parcial posição: 151\\nCl...   \n",
       "\n",
       "                                           Resultado_1  \\\n",
       "0    Compared Entities: Normative task vs Inspectio...   \n",
       "1    Compared Entities: Normative task vs Inspectio...   \n",
       "2    Compared Entities: Normative task vs Inspectio...   \n",
       "3    Compared Entities: Normative task vs Inspectio...   \n",
       "4    Compared Entities: Normative task vs Inspectio...   \n",
       "..                                                 ...   \n",
       "147  Compared Entities: Normative task vs Inspectio...   \n",
       "148  Compared Entities: Normative task vs Inspectio...   \n",
       "149  Compared Entities: Normative task vs Inspectio...   \n",
       "150  Compared Entities: Normative task vs Inspectio...   \n",
       "151  Compared Entities: Normative task vs Inspectio...   \n",
       "\n",
       "                                              Report_2  \\\n",
       "0    Item da lista: inspec_parcial posição: 0\\nInsp...   \n",
       "1    Item da lista: inspec_parcial posição: 1\\nInsp...   \n",
       "2    Item da lista: inspec_parcial posição: 2\\nOper...   \n",
       "3    Item da lista: inspec_parcial posição: 3\\nInsp...   \n",
       "4    Item da lista: inspec_errado posição: 4\\nCheck...   \n",
       "..                                                 ...   \n",
       "147  Item da lista: inspec_errado posição: 147\\nCon...   \n",
       "148  Item da lista: inspec_sintetico posição: 10\\nC...   \n",
       "149  Item da lista: inspec_errado posição: 149\\nIns...   \n",
       "150  Item da lista: inspec_parcial posição: 150\\nIn...   \n",
       "151  Item da lista: inspec_errado posição: 151\\nPer...   \n",
       "\n",
       "                                           Resultado_2  \\\n",
       "0    Compared Entities: Normative task vs Inspectio...   \n",
       "1    Compared Entities: Normative task vs Inspectio...   \n",
       "2    Compared Entities: Normative task vs Inspectio...   \n",
       "3    Compared Entities: Normative task vs Inspectio...   \n",
       "4    Compared Entities: Normative task vs Inspectio...   \n",
       "..                                                 ...   \n",
       "147  Compared Entities: Normative task vs Inspectio...   \n",
       "148  Compared Entities: Normative task vs Inspectio...   \n",
       "149  Compared Entities: Normative task vs Inspectio...   \n",
       "150  Compared Entities: Normative task vs Inspectio...   \n",
       "151  Compared Entities: Normative task vs Inspectio...   \n",
       "\n",
       "                                              Report_3  \\\n",
       "0    Item da lista: inspec_errado posição: 0\\nRevie...   \n",
       "1    Item da lista: inspec_parcial posição: 134\\nIn...   \n",
       "2    Item da lista: inspec_sintetico posição: 39\\nE...   \n",
       "3    Item da lista: inspec_parcial posição: 4\\nInsp...   \n",
       "4    Item da lista: inspec_parcial posição: 4\\nInsp...   \n",
       "..                                                 ...   \n",
       "147  Item da lista: inspec_errado posição: 3\\nExami...   \n",
       "148  Item da lista: inspec_errado posição: 3\\nExami...   \n",
       "149  Item da lista: inspec_parcial posição: 147\\nIn...   \n",
       "150  Item da lista: inspec_parcial posição: 147\\nIn...   \n",
       "151  Item da lista: inspec_errado posição: 145\\nPer...   \n",
       "\n",
       "                                           Resultado_3 Item_Aderente Gabarito  \\\n",
       "0    Compared Entities: Normative task vs Inspectio...          1,2,            \n",
       "1    Compared Entities: Normative task vs Inspectio...            1,            \n",
       "2    Compared Entities: Normative task vs Inspectio...            1,            \n",
       "3    Compared Entities: Normative task vs Inspectio...            1,            \n",
       "4    Compared Entities: Normative task vs Inspectio...            1,            \n",
       "..                                                 ...           ...      ...   \n",
       "147  Compared Entities: Normative task vs Inspectio...                          \n",
       "148  Compared Entities: Normative task vs Inspectio...                          \n",
       "149  Compared Entities: Normative task vs Inspectio...            1,            \n",
       "150  Compared Entities: Normative task vs Inspectio...                          \n",
       "151  Compared Entities: Normative task vs Inspectio...            1,            \n",
       "\n",
       "    Aderência  \n",
       "0         Sim  \n",
       "1         Sim  \n",
       "2         Sim  \n",
       "3         Sim  \n",
       "4         Sim  \n",
       "..        ...  \n",
       "147       Não  \n",
       "148       Não  \n",
       "149       Sim  \n",
       "150       Não  \n",
       "151       Sim  \n",
       "\n",
       "[152 rows x 10 columns]"
      ]
     },
     "execution_count": 30,
     "metadata": {},
     "output_type": "execute_result"
    }
   ],
   "source": [
    "df_resultado"
   ]
  },
  {
   "cell_type": "code",
   "execution_count": 31,
   "metadata": {},
   "outputs": [],
   "source": [
    "df_resultado.to_excel('resultado_teste6.xlsx')"
   ]
  }
 ],
 "metadata": {
  "kernelspec": {
   "display_name": "genAi",
   "language": "python",
   "name": "python3"
  },
  "language_info": {
   "codemirror_mode": {
    "name": "ipython",
    "version": 3
   },
   "file_extension": ".py",
   "mimetype": "text/x-python",
   "name": "python",
   "nbconvert_exporter": "python",
   "pygments_lexer": "ipython3",
   "version": "3.10.14"
  },
  "orig_nbformat": 4
 },
 "nbformat": 4,
 "nbformat_minor": 2
}
